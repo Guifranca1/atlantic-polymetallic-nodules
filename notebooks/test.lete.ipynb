{
 "cells": [
  {
   "cell_type": "code",
   "execution_count": 1,
   "id": "6f56fb01",
   "metadata": {},
   "outputs": [
    {
     "name": "stdout",
     "output_type": "stream",
     "text": [
      "LETE de X para Y (deve ser > 0): 0.928797\n",
      "LETE de Y para X (deve ser próximo de 0): 0.020780\n",
      "LETE de Z para Y (deve ser próximo de 0): 0.002219\n",
      "\n",
      "Matriz LETE:\n",
      "          X         Y    Z\n",
      "X  0.000000  0.928716  0.0\n",
      "Y  0.018459  0.000000  0.0\n",
      "Z  0.000000  0.001931  0.0\n"
     ]
    },
    {
     "data": {
      "image/png": "[encoded data removed]",
      "text/plain": [
       "<Figure size 800x600 with 2 Axes>"
      ]
     },
     "metadata": {},
     "output_type": "display_data"
    }
   ],
   "source": [
    "# Teste do módulo LETE\n",
    "import sys\n",
    "import os\n",
    "import numpy as np\n",
    "import pandas as pd\n",
    "import matplotlib.pyplot as plt\n",
    "\n",
    "# Adicionar o diretório raiz ao path\n",
    "sys.path.append(os.path.abspath('..'))\n",
    "\n",
    "# Importar o módulo LETE\n",
    "from src.network.lete import LETECalculator\n",
    "\n",
    "# Criar alguns dados de teste\n",
    "np.random.seed(42)\n",
    "n_samples = 500\n",
    "\n",
    "# Série com dependência causal\n",
    "x = np.random.randn(n_samples)\n",
    "y = 0.5 * np.roll(x, 1) + 0.2 * np.random.randn(n_samples)\n",
    "\n",
    "# Série sem dependência causal\n",
    "z = np.random.randn(n_samples)\n",
    "\n",
    "# Criar o calculador LETE\n",
    "lete_calc = LETECalculator(k=1, l=1, bins=5, shuffle_iterations=50)\n",
    "\n",
    "# Calcular LETE para os pares de séries\n",
    "lete_x_to_y = lete_calc.calculate_lete(x, y)\n",
    "lete_y_to_x = lete_calc.calculate_lete(y, x)\n",
    "lete_z_to_y = lete_calc.calculate_lete(z, y)\n",
    "\n",
    "print(f\"LETE de X para Y (deve ser > 0): {lete_x_to_y:.6f}\")\n",
    "print(f\"LETE de Y para X (deve ser próximo de 0): {lete_y_to_x:.6f}\")\n",
    "print(f\"LETE de Z para Y (deve ser próximo de 0): {lete_z_to_y:.6f}\")\n",
    "\n",
    "# Testar com um dataframe\n",
    "df = pd.DataFrame({\n",
    "    'X': x,\n",
    "    'Y': y,\n",
    "    'Z': z\n",
    "})\n",
    "\n",
    "# Calcular matriz LETE\n",
    "lete_matrix = lete_calc.calculate_lete_matrix(df)\n",
    "print(\"\\nMatriz LETE:\")\n",
    "print(lete_matrix)\n",
    "\n",
    "# Visualizar a matriz\n",
    "plt.figure(figsize=(8, 6))\n",
    "plt.imshow(lete_matrix, cmap='viridis', interpolation='none')\n",
    "plt.colorbar(label='LETE Value')\n",
    "plt.xticks(range(len(df.columns)), df.columns)\n",
    "plt.yticks(range(len(df.columns)), df.columns)\n",
    "plt.title('LETE Matrix')\n",
    "plt.tight_layout()\n",
    "plt.show()\n"
   ]
  }
 ],
 "metadata": {
  "kernelspec": {
   "display_name": "venv",
   "language": "python",
   "name": "python3"
  },
  "language_info": {
   "codemirror_mode": {
    "name": "ipython",
    "version": 3
   },
   "file_extension": ".py",
   "mimetype": "text/x-python",
   "name": "python",
   "nbconvert_exporter": "python",
   "pygments_lexer": "ipython3",
   "version": "3.13.3"
  }
 },
 "nbformat": 4,
 "nbformat_minor": 5
}
