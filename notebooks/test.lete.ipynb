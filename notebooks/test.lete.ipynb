{
 "cells": [
  {
   "cell_type": "code",
   "execution_count": null,
   "id": "6f56fb01",
   "metadata": {
    "vscode": {
     "languageId": "plaintext"
    }
   },
   "outputs": [],
   "source": [
    "# Teste do módulo LETE\n",
    "import sys\n",
    "import os\n",
    "import numpy as np\n",
    "import pandas as pd\n",
    "import matplotlib.pyplot as plt\n",
    "\n",
    "# Adicionar o diretório raiz ao path\n",
    "sys.path.append(os.path.abspath('..'))\n",
    "\n",
    "# Importar o módulo LETE\n",
    "from src.network.lete import LETECalculator\n",
    "\n",
    "# Criar alguns dados de teste\n",
    "np.random.seed(42)\n",
    "n_samples = 500\n",
    "\n",
    "# Série com dependência causal\n",
    "x = np.random.randn(n_samples)\n",
    "y = 0.5 * np.roll(x, 1) + 0.2 * np.random.randn(n_samples)\n",
    "\n",
    "# Série sem dependência causal\n",
    "z = np.random.randn(n_samples)\n",
    "\n",
    "# Criar o calculador LETE\n",
    "lete_calc = LETECalculator(k=1, l=1, bins=5, shuffle_iterations=50)\n",
    "\n",
    "# Calcular LETE para os pares de séries\n",
    "lete_x_to_y = lete_calc.calculate_lete(x, y)\n",
    "lete_y_to_x = lete_calc.calculate_lete(y, x)\n",
    "lete_z_to_y = lete_calc.calculate_lete(z, y)\n",
    "\n",
    "print(f\"LETE de X para Y (deve ser > 0): {lete_x_to_y:.6f}\")\n",
    "print(f\"LETE de Y para X (deve ser próximo de 0): {lete_y_to_x:.6f}\")\n",
    "print(f\"LETE de Z para Y (deve ser próximo de 0): {lete_z_to_y:.6f}\")\n",
    "\n",
    "# Testar com um dataframe\n",
    "df = pd.DataFrame({\n",
    "    'X': x,\n",
    "    'Y': y,\n",
    "    'Z': z\n",
    "})\n",
    "\n",
    "# Calcular matriz LETE\n",
    "lete_matrix = lete_calc.calculate_lete_matrix(df)\n",
    "print(\"\\nMatriz LETE:\")\n",
    "print(lete_matrix)\n",
    "\n",
    "# Visualizar a matriz\n",
    "plt.figure(figsize=(8, 6))\n",
    "plt.imshow(lete_matrix, cmap='viridis', interpolation='none')\n",
    "plt.colorbar(label='LETE Value')\n",
    "plt.xticks(range(len(df.columns)), df.columns)\n",
    "plt.yticks(range(len(df.columns)), df.columns)\n",
    "plt.title('LETE Matrix')\n",
    "plt.tight_layout()\n",
    "plt.show()\n"
   ]
  }
 ],
 "metadata": {
  "language_info": {
   "name": "python"
  }
 },
 "nbformat": 4,
 "nbformat_minor": 5
}
